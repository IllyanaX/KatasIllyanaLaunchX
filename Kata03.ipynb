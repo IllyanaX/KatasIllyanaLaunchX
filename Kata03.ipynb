{
 "cells": [
  {
   "cell_type": "code",
   "execution_count": null,
   "metadata": {},
   "outputs": [],
   "source": []
  },
  {
   "cell_type": "markdown",
   "metadata": {},
   "source": [
    "## Advertencia: Asteroide acercándose demasiado rápido"
   ]
  },
  {
   "cell_type": "code",
   "execution_count": 3,
   "metadata": {},
   "outputs": [
    {
     "name": "stdout",
     "output_type": "stream",
     "text": [
      "Warning! Asteroid coming too fast!\n"
     ]
    }
   ],
   "source": [
    "asteroid_speed = 49\n",
    "\n",
    "if asteroid_speed > 25:\n",
    "    print(\"Warning! Asteroid coming too fast!\")\n",
    "else:\n",
    "    print(\"Have a nice day!\")"
   ]
  },
  {
   "cell_type": "markdown",
   "metadata": {},
   "source": [
    "# Luces en el cielo"
   ]
  },
  {
   "cell_type": "code",
   "execution_count": 4,
   "metadata": {},
   "outputs": [
    {
     "name": "stdout",
     "output_type": "stream",
     "text": [
      "Keep going, there's nothing on the sky.\n"
     ]
    }
   ],
   "source": [
    "asteroid = 19\n",
    "\n",
    "if asteroid > 20:\n",
    "    print(\"Look up! There's an asteroid leaving a light trace on the sky!\")\n",
    "elif asteroid == 20:\n",
    "    print(\"Look up! There's an asteroid leaving a light trace on the sky!\")\n",
    "else: \n",
    "    print(\"Keep going, there's nothing in the sky.\")"
   ]
  },
  {
   "cell_type": "markdown",
   "metadata": {},
   "source": [
    "# Varias condiciones: Conoce a los operadores de Boole"
   ]
  },
  {
   "cell_type": "code",
   "execution_count": 7,
   "metadata": {},
   "outputs": [
    {
     "name": "stdout",
     "output_type": "stream",
     "text": [
      "Look up! There's an asteroid leaving a light trace in the sky!\n"
     ]
    }
   ],
   "source": [
    "asteroid_speed = 21\n",
    "asteroid_size = 25\n",
    "\n",
    "if asteroid_speed > 25 or asteroid_size >25:\n",
    "    print(\"Warning! A dangerous asteroid is coming too fast!\")\n",
    "elif asteroid_speed >= 20 and asteroid_size == 25:\n",
    "    print(\"Look up! There's an asteroid leaving a light trace in the sky!\")\n",
    "else:\n",
    "    print(\"Have a nice day!\")\n"
   ]
  }
 ],
 "metadata": {
  "interpreter": {
   "hash": "ec6a98cf06930974a26eecd473eee7c49c9b87f19ba673f43f43e4e12d979b45"
  },
  "kernelspec": {
   "display_name": "Python 3.10.0 64-bit",
   "language": "python",
   "name": "python3"
  },
  "language_info": {
   "codemirror_mode": {
    "name": "ipython",
    "version": 3
   },
   "file_extension": ".py",
   "mimetype": "text/x-python",
   "name": "python",
   "nbconvert_exporter": "python",
   "pygments_lexer": "ipython3",
   "version": "3.10.0"
  },
  "orig_nbformat": 4
 },
 "nbformat": 4,
 "nbformat_minor": 2
}

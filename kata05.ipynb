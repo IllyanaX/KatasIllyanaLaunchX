{
 "cells": [
  {
   "cell_type": "code",
   "execution_count": null,
   "metadata": {},
   "outputs": [],
   "source": []
  },
  {
   "cell_type": "markdown",
   "metadata": {},
   "source": [
    "## Calcular la distancia entre dos planetas"
   ]
  },
  {
   "cell_type": "code",
   "execution_count": 4,
   "metadata": {},
   "outputs": [
    {
     "name": "stdout",
     "output_type": "stream",
     "text": [
      "The irst distance in kilometers is: 628949330\n",
      "The distance in miles is: 390577533.93\n"
     ]
    }
   ],
   "source": [
    "planet_earth = 149597870\n",
    "planet_jupiter = 778547200\n",
    "\n",
    "distance = abs(planet_earth - planet_jupiter)\n",
    "\n",
    "\n",
    "print(\"The distance in kilometers is: \" + str (distance))\n",
    "\n",
    "print(\"The distance in miles is: \" + str (distance * 0.621))"
   ]
  },
  {
   "cell_type": "code",
   "execution_count": 6,
   "metadata": {},
   "outputs": [
    {
     "name": "stdout",
     "output_type": "stream",
     "text": [
      "The distance between the two planets in miles is: 31236300.0\n"
     ]
    }
   ],
   "source": [
    "first_planet = input(\"How far in kilometers is the first planet from the sun?\")\n",
    "second_planet = input(\"How far in kilometers is the second planet from the sun?\")\n",
    "\n",
    "first_planet = int(first_planet)\n",
    "second_planet = int(second_planet)\n",
    "\n",
    "distance = abs(first_planet - second_planet)\n",
    "\n",
    "print(\"The distance between the two planets in miles is: \" + str (distance * 0.621))\n"
   ]
  }
 ],
 "metadata": {
  "interpreter": {
   "hash": "ec6a98cf06930974a26eecd473eee7c49c9b87f19ba673f43f43e4e12d979b45"
  },
  "kernelspec": {
   "display_name": "Python 3.10.0 64-bit",
   "language": "python",
   "name": "python3"
  },
  "language_info": {
   "codemirror_mode": {
    "name": "ipython",
    "version": 3
   },
   "file_extension": ".py",
   "mimetype": "text/x-python",
   "name": "python",
   "nbconvert_exporter": "python",
   "pygments_lexer": "ipython3",
   "version": "3.10.0"
  },
  "orig_nbformat": 4
 },
 "nbformat": 4,
 "nbformat_minor": 2
}

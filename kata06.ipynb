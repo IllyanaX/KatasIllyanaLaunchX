{
 "cells": [
  {
   "cell_type": "code",
   "execution_count": null,
   "metadata": {},
   "outputs": [],
   "source": []
  },
  {
   "cell_type": "markdown",
   "metadata": {},
   "source": [
    "## Una lista de planetas"
   ]
  },
  {
   "cell_type": "code",
   "execution_count": 3,
   "metadata": {},
   "outputs": [
    {
     "name": "stdout",
     "output_type": "stream",
     "text": [
      "There are 8 planets in the solar system.\n",
      "At some point in history, there was 9 planets in the solar system.\n"
     ]
    }
   ],
   "source": [
    "#Creando y usando una lista\n",
    "\n",
    "planets = ['Mercury','Venus','Earth', 'Mars', 'Jupiter', 'Saturn','Uranus','Neptune']\n",
    "\n",
    "number_of_planets = len(planets)\n",
    "print('There are', number_of_planets, 'planets in the solar system.')\n",
    "\n",
    "planets.append('Pluto')\n",
    "number_of_planets = len(planets)\n",
    "print('At some point in history, there was', number_of_planets, 'planets in the solar system.')"
   ]
  },
  {
   "cell_type": "code",
   "execution_count": 1,
   "metadata": {},
   "outputs": [
    {
     "name": "stdout",
     "output_type": "stream",
     "text": [
      "Here's your planet's number:  2\n",
      "Planets closer to the sun than: Earth\n",
      "['Mercury', 'Venus']\n",
      "Planets further to the sun than: Earth\n",
      "['Mars', 'Jupiter', 'Saturn', 'Uranus', 'Neptune']\n"
     ]
    }
   ],
   "source": [
    "#Trabajando con datos de una lista\n",
    "\n",
    "planets = ['Mercury', 'Venus', 'Earth', 'Mars', 'Jupiter', 'Saturn', 'Uranus', 'Neptune']\n",
    "\n",
    "planet_name = input(\"Enter a planet's name: \")\n",
    "\n",
    "planet_index = planets.index(planet_name)\n",
    "\n",
    "print(\"Here's your planet's number: \",planet_index)\n",
    "\n",
    "print(\"Planets closer to the sun than: \" + planet_name)\n",
    "print(planets[0:planet_index])\n",
    "\n",
    "print(\"Planets further to the sun than: \"+ planet_name)\n",
    "print(planets[planet_index + 1:])"
   ]
  }
 ],
 "metadata": {
  "interpreter": {
   "hash": "ec6a98cf06930974a26eecd473eee7c49c9b87f19ba673f43f43e4e12d979b45"
  },
  "kernelspec": {
   "display_name": "Python 3.10.0 64-bit",
   "language": "python",
   "name": "python3"
  },
  "language_info": {
   "codemirror_mode": {
    "name": "ipython",
    "version": 3
   },
   "file_extension": ".py",
   "mimetype": "text/x-python",
   "name": "python",
   "nbconvert_exporter": "python",
   "pygments_lexer": "ipython3",
   "version": "3.10.0"
  },
  "orig_nbformat": 4
 },
 "nbformat": 4,
 "nbformat_minor": 2
}
